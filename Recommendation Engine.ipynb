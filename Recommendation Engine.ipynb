{
 "cells": [
  {
   "cell_type": "markdown",
   "id": "76e66d02",
   "metadata": {},
   "source": [
    "# Spotify Recommendation Engine\n",
    "\n",
    "https://www.kaggle.com/leonardopena/top50spotify2019\n"
   ]
  },
  {
   "cell_type": "code",
   "execution_count": 1,
   "id": "269aacca",
   "metadata": {},
   "outputs": [],
   "source": [
    "import pandas as pd\n",
    "import numpy as np\n",
    "from sklearn.cluster import KMeans"
   ]
  },
  {
   "cell_type": "code",
   "execution_count": 3,
   "id": "3473abc6",
   "metadata": {},
   "outputs": [],
   "source": [
    "df = pd.read_csv(\"top50.csv\")"
   ]
  },
  {
   "cell_type": "code",
   "execution_count": 4,
   "id": "d9623526",
   "metadata": {},
   "outputs": [
    {
     "data": {
      "text/html": [
       "<div>\n",
       "<style scoped>\n",
       "    .dataframe tbody tr th:only-of-type {\n",
       "        vertical-align: middle;\n",
       "    }\n",
       "\n",
       "    .dataframe tbody tr th {\n",
       "        vertical-align: top;\n",
       "    }\n",
       "\n",
       "    .dataframe thead th {\n",
       "        text-align: right;\n",
       "    }\n",
       "</style>\n",
       "<table border=\"1\" class=\"dataframe\">\n",
       "  <thead>\n",
       "    <tr style=\"text-align: right;\">\n",
       "      <th></th>\n",
       "      <th>Unnamed: 0</th>\n",
       "      <th>Track.Name</th>\n",
       "      <th>Artist.Name</th>\n",
       "      <th>Genre</th>\n",
       "      <th>Beats.Per.Minute</th>\n",
       "      <th>Energy</th>\n",
       "      <th>Danceability</th>\n",
       "      <th>Loudness..dB..</th>\n",
       "      <th>Liveness</th>\n",
       "      <th>Valence.</th>\n",
       "      <th>Length.</th>\n",
       "      <th>Acousticness..</th>\n",
       "      <th>Speechiness.</th>\n",
       "      <th>Popularity</th>\n",
       "    </tr>\n",
       "  </thead>\n",
       "  <tbody>\n",
       "    <tr>\n",
       "      <th>0</th>\n",
       "      <td>1</td>\n",
       "      <td>Se�orita</td>\n",
       "      <td>Shawn Mendes</td>\n",
       "      <td>canadian pop</td>\n",
       "      <td>117</td>\n",
       "      <td>55</td>\n",
       "      <td>76</td>\n",
       "      <td>-6</td>\n",
       "      <td>8</td>\n",
       "      <td>75</td>\n",
       "      <td>191</td>\n",
       "      <td>4</td>\n",
       "      <td>3</td>\n",
       "      <td>79</td>\n",
       "    </tr>\n",
       "    <tr>\n",
       "      <th>1</th>\n",
       "      <td>2</td>\n",
       "      <td>China</td>\n",
       "      <td>Anuel AA</td>\n",
       "      <td>reggaeton flow</td>\n",
       "      <td>105</td>\n",
       "      <td>81</td>\n",
       "      <td>79</td>\n",
       "      <td>-4</td>\n",
       "      <td>8</td>\n",
       "      <td>61</td>\n",
       "      <td>302</td>\n",
       "      <td>8</td>\n",
       "      <td>9</td>\n",
       "      <td>92</td>\n",
       "    </tr>\n",
       "    <tr>\n",
       "      <th>2</th>\n",
       "      <td>3</td>\n",
       "      <td>boyfriend (with Social House)</td>\n",
       "      <td>Ariana Grande</td>\n",
       "      <td>dance pop</td>\n",
       "      <td>190</td>\n",
       "      <td>80</td>\n",
       "      <td>40</td>\n",
       "      <td>-4</td>\n",
       "      <td>16</td>\n",
       "      <td>70</td>\n",
       "      <td>186</td>\n",
       "      <td>12</td>\n",
       "      <td>46</td>\n",
       "      <td>85</td>\n",
       "    </tr>\n",
       "    <tr>\n",
       "      <th>3</th>\n",
       "      <td>4</td>\n",
       "      <td>Beautiful People (feat. Khalid)</td>\n",
       "      <td>Ed Sheeran</td>\n",
       "      <td>pop</td>\n",
       "      <td>93</td>\n",
       "      <td>65</td>\n",
       "      <td>64</td>\n",
       "      <td>-8</td>\n",
       "      <td>8</td>\n",
       "      <td>55</td>\n",
       "      <td>198</td>\n",
       "      <td>12</td>\n",
       "      <td>19</td>\n",
       "      <td>86</td>\n",
       "    </tr>\n",
       "    <tr>\n",
       "      <th>4</th>\n",
       "      <td>5</td>\n",
       "      <td>Goodbyes (Feat. Young Thug)</td>\n",
       "      <td>Post Malone</td>\n",
       "      <td>dfw rap</td>\n",
       "      <td>150</td>\n",
       "      <td>65</td>\n",
       "      <td>58</td>\n",
       "      <td>-4</td>\n",
       "      <td>11</td>\n",
       "      <td>18</td>\n",
       "      <td>175</td>\n",
       "      <td>45</td>\n",
       "      <td>7</td>\n",
       "      <td>94</td>\n",
       "    </tr>\n",
       "  </tbody>\n",
       "</table>\n",
       "</div>"
      ],
      "text/plain": [
       "   Unnamed: 0                       Track.Name    Artist.Name           Genre  \\\n",
       "0           1                         Se�orita   Shawn Mendes    canadian pop   \n",
       "1           2                            China       Anuel AA  reggaeton flow   \n",
       "2           3    boyfriend (with Social House)  Ariana Grande       dance pop   \n",
       "3           4  Beautiful People (feat. Khalid)     Ed Sheeran             pop   \n",
       "4           5      Goodbyes (Feat. Young Thug)    Post Malone         dfw rap   \n",
       "\n",
       "   Beats.Per.Minute  Energy  Danceability  Loudness..dB..  Liveness  Valence.  \\\n",
       "0               117      55            76              -6         8        75   \n",
       "1               105      81            79              -4         8        61   \n",
       "2               190      80            40              -4        16        70   \n",
       "3                93      65            64              -8         8        55   \n",
       "4               150      65            58              -4        11        18   \n",
       "\n",
       "   Length.  Acousticness..  Speechiness.  Popularity  \n",
       "0      191               4             3          79  \n",
       "1      302               8             9          92  \n",
       "2      186              12            46          85  \n",
       "3      198              12            19          86  \n",
       "4      175              45             7          94  "
      ]
     },
     "execution_count": 4,
     "metadata": {},
     "output_type": "execute_result"
    }
   ],
   "source": [
    "df.head()"
   ]
  },
  {
   "cell_type": "code",
   "execution_count": 5,
   "id": "3687f117",
   "metadata": {},
   "outputs": [],
   "source": [
    "class SpotifyRecommendation(object):\n",
    "    def __init__(self):\n",
    "        self.df = pd.read_csv(\"top50.csv\",encoding = \"ISO-8859-1\")\n",
    "        self.numerical_df = None\n",
    "        self.results = dict()\n",
    "        \n",
    "        \n",
    "    def columns_renaming(self):\n",
    "        self.df.columns = [i.lower().replace(\".\", \"\") for i in self.df]\n",
    "        \n",
    "    def cleaning_str_col(self):\n",
    "        for i in ['trackname', 'artistname', 'genre']:\n",
    "            self.df[i] = self.df[i].str.lower()\n",
    "            \n",
    "    def removed_unwanted_col(self):\n",
    "        self.df.drop(columns=['unnamed: 0'],inplace=True,axis=1)\n",
    "    \n",
    "    def normalized_algo(self,col):\n",
    "        max_d = self.df[col].max()\n",
    "        min_d = self.df[col].min()\n",
    "        return (self.df[col] - min_d)/(max_d - min_d)\n",
    "\n",
    "    def normalizing_col(self):\n",
    "        df_numerical = self.df.select_dtypes(include=['int64'])\n",
    "        self.numerical_df =df_numerical\n",
    "        for col in df_numerical.columns:\n",
    "            self.df[col] = self.normalized_algo(col)\n",
    "            \n",
    "    def cluster_creation(self):\n",
    "        km = KMeans(n_clusters=15)\n",
    "        pred = km.fit_predict(self.numerical_df)\n",
    "        self.df['cluster_val'] = pred\n",
    "        self.df['cluster_val'] = self.normalized_algo('cluster_val')\n",
    "        \n",
    "    def fit(self):\n",
    "        \n",
    "        total_songs = list(self.df['trackname'].unique())\n",
    "        for song_name in total_songs:\n",
    "            distances = []\n",
    "            song_res = self.df[(self.df[\"trackname\"]== song_name)].head(1).values[0]\n",
    "            rem_data = self.df[self.df['trackname']!= song_name]\n",
    "            for r_song in rem_data.values:\n",
    "                dist = 0\n",
    "                for idx, col in enumerate(rem_data.columns):\n",
    "                    #indeces of non-numerical columns(id,Release date,name,artists)\n",
    "                    if not col in [\"trackname\",\"artistname\",\"genre\"]:\n",
    "                        #calculating the manhettan distances for each numerical feature\n",
    "                        dist = dist + np.absolute(float(song_res[idx]) - float(r_song[idx]))\n",
    "                        \n",
    "                distances.append(dist)\n",
    "            rem_data['distance'] = distances\n",
    "            rem_data = rem_data.sort_values('distance')\n",
    "            temp = rem_data.to_dict(orient='records')\n",
    "            self.results[song_name] = temp\n",
    "\n",
    "    def predict(self,song_name,top=5):\n",
    "        return self.results[song_name][0:5]\n",
    "        \n",
    "\n",
    "        \n",
    "        "
   ]
  },
  {
   "cell_type": "code",
   "execution_count": 6,
   "id": "f76fc07e",
   "metadata": {},
   "outputs": [],
   "source": [
    "s = SpotifyRecommendation()"
   ]
  },
  {
   "cell_type": "code",
   "execution_count": 7,
   "id": "98f9a7a4",
   "metadata": {},
   "outputs": [],
   "source": [
    "s.columns_renaming()"
   ]
  },
  {
   "cell_type": "code",
   "execution_count": 8,
   "id": "8ec83829",
   "metadata": {},
   "outputs": [],
   "source": [
    "s.cleaning_str_col()"
   ]
  },
  {
   "cell_type": "code",
   "execution_count": 9,
   "id": "ab5e9933",
   "metadata": {},
   "outputs": [],
   "source": [
    "s.removed_unwanted_col()"
   ]
  },
  {
   "cell_type": "code",
   "execution_count": 10,
   "id": "5ab82823",
   "metadata": {},
   "outputs": [],
   "source": [
    "s.normalizing_col()"
   ]
  },
  {
   "cell_type": "code",
   "execution_count": 11,
   "id": "ff583577",
   "metadata": {},
   "outputs": [],
   "source": [
    "s.cluster_creation()"
   ]
  },
  {
   "cell_type": "code",
   "execution_count": 12,
   "id": "043ebdd8",
   "metadata": {},
   "outputs": [
    {
     "name": "stderr",
     "output_type": "stream",
     "text": [
      "<ipython-input-5-87de6190efa9>:51: SettingWithCopyWarning: \n",
      "A value is trying to be set on a copy of a slice from a DataFrame.\n",
      "Try using .loc[row_indexer,col_indexer] = value instead\n",
      "\n",
      "See the caveats in the documentation: https://pandas.pydata.org/pandas-docs/stable/user_guide/indexing.html#returning-a-view-versus-a-copy\n",
      "  rem_data['distance'] = distances\n"
     ]
    }
   ],
   "source": [
    "s.fit()"
   ]
  },
  {
   "cell_type": "code",
   "execution_count": null,
   "id": "7ab6f52d",
   "metadata": {},
   "outputs": [],
   "source": []
  }
 ],
 "metadata": {
  "kernelspec": {
   "display_name": "Python 3",
   "language": "python",
   "name": "python3"
  },
  "language_info": {
   "codemirror_mode": {
    "name": "ipython",
    "version": 3
   },
   "file_extension": ".py",
   "mimetype": "text/x-python",
   "name": "python",
   "nbconvert_exporter": "python",
   "pygments_lexer": "ipython3",
   "version": "3.8.8"
  }
 },
 "nbformat": 4,
 "nbformat_minor": 5
}
